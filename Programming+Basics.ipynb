{
 "cells": [
  {
   "cell_type": "code",
   "execution_count": 10,
   "metadata": {},
   "outputs": [
    {
     "name": "stdout",
     "output_type": "stream",
     "text": [
      "Select operation.\n",
      "1.Add\n",
      "2.Subtract\n",
      "3.Multiply\n",
      "4.Divide\n",
      "Enter choice(1/2/3/4):4\n",
      "Enter first number: 44\n",
      "Enter second number: 11\n",
      "44 / 11 = 4.0\n"
     ]
    }
   ],
   "source": [
    "## Using my logic\n",
    "def add(x, y):\n",
    "   return x + y\n",
    "\n",
    "# This function subtracts two numbers \n",
    "def subtract(x, y):\n",
    "   return x - y\n",
    "\n",
    "# This function multiplies two numbers\n",
    "def multiply(x, y):\n",
    "   return x * y\n",
    "\n",
    "# This function divides two numbers\n",
    "def divide(x, y):\n",
    "   return x / y\n",
    "\n",
    "print(\"Select operation.\")\n",
    "print(\"1.Add\")\n",
    "print(\"2.Subtract\")\n",
    "print(\"3.Multiply\")\n",
    "print(\"4.Divide\")\n",
    "\n",
    "# Take input from the user \n",
    "choice = input(\"Enter choice(1/2/3/4):\")\n",
    "\n",
    "num1 = int(input(\"Enter first number: \"))\n",
    "num2 = int(input(\"Enter second number: \"))\n",
    "\n",
    "if choice == '1':\n",
    "   print(num1,\"+\",num2,\"=\", add(num1,num2))\n",
    "\n",
    "elif choice == '2':\n",
    "   print(num1,\"-\",num2,\"=\", subtract(num1,num2))\n",
    "\n",
    "elif choice == '3':\n",
    "   print(num1,\"*\",num2,\"=\", multiply(num1,num2))\n",
    "\n",
    "elif choice == '4':\n",
    "   print(num1,\"/\",num2,\"=\", divide(num1,num2))\n",
    "else:\n",
    "   print(\"Invalid input\")"
   ]
  },
  {
   "cell_type": "code",
   "execution_count": null,
   "metadata": {},
   "outputs": [
    {
     "name": "stdout",
     "output_type": "stream",
     "text": [
      "Our Magic Calculator\n",
      "Type'quit' to exit\n",
      "\n",
      "Enter equation4*7\n",
      "You typed 28\n",
      "28/5\n",
      "You typed 5.6\n",
      "5.68\n",
      "You typed 5.68\n",
      "5.6855\n",
      "You typed 5.6855\n",
      "5.6855-9\n",
      "You typed -3.3145\n"
     ]
    }
   ],
   "source": [
    "#Here if you simply type 5 to answer 5.88 it will return 5.885\n",
    "import re\n",
    "print('Our Magic Calculator')\n",
    "print(\"Type'quit' to exit\\n\")\n",
    "previous=0\n",
    "run=True\n",
    "\n",
    "def performMath():\n",
    "    global run\n",
    "    global previous\n",
    "    equation = \"\"\n",
    "    if previous == 0:\n",
    "        equation = input(\"Enter equation\")\n",
    "    else:\n",
    "        equation= input(str(previous))\n",
    "    \n",
    "   \n",
    "    if equation == 'quit':\n",
    "        run = False\n",
    "    else:\n",
    "        equation=re.sub('[a-zA-Z,.:()\" \"]', '',equation)\n",
    "        \n",
    "        if previous ==0:\n",
    "            previous =eval(equation)\n",
    "        else:\n",
    "            previous=eval(str(previous)+equation)\n",
    "        \n",
    "    \n",
    "        print(\"You typed\",previous)\n",
    "while run:\n",
    "    performMath()"
   ]
  },
  {
   "cell_type": "code",
   "execution_count": null,
   "metadata": {
    "collapsed": true
   },
   "outputs": [],
   "source": []
  },
  {
   "cell_type": "code",
   "execution_count": null,
   "metadata": {
    "collapsed": true
   },
   "outputs": [],
   "source": []
  },
  {
   "cell_type": "code",
   "execution_count": null,
   "metadata": {
    "collapsed": true
   },
   "outputs": [],
   "source": []
  },
  {
   "cell_type": "code",
   "execution_count": null,
   "metadata": {
    "collapsed": true
   },
   "outputs": [],
   "source": []
  },
  {
   "cell_type": "code",
   "execution_count": null,
   "metadata": {
    "collapsed": true
   },
   "outputs": [],
   "source": []
  },
  {
   "cell_type": "code",
   "execution_count": null,
   "metadata": {
    "collapsed": true
   },
   "outputs": [],
   "source": []
  },
  {
   "cell_type": "code",
   "execution_count": 8,
   "metadata": {},
   "outputs": [
    {
     "name": "stdout",
     "output_type": "stream",
     "text": [
      "Our Magic Calculator\n",
      "Type'quit' to exit\n",
      "\n"
     ]
    },
    {
     "ename": "SyntaxError",
     "evalue": "unexpected EOF while parsing (<string>, line 0)",
     "output_type": "error",
     "traceback": [
      "Traceback \u001b[1;36m(most recent call last)\u001b[0m:\n",
      "  File \u001b[0;32m\"C:\\Users\\dell\\Anaconda3\\lib\\site-packages\\IPython\\core\\interactiveshell.py\"\u001b[0m, line \u001b[0;32m2862\u001b[0m, in \u001b[0;35mrun_code\u001b[0m\n    exec(code_obj, self.user_global_ns, self.user_ns)\n",
      "  File \u001b[0;32m\"<ipython-input-8-8e5a6cb2eed8>\"\u001b[0m, line \u001b[0;32m25\u001b[0m, in \u001b[0;35m<module>\u001b[0m\n    performMath()\n",
      "\u001b[1;36m  File \u001b[1;32m\"<ipython-input-8-8e5a6cb2eed8>\"\u001b[1;36m, line \u001b[1;32m18\u001b[1;36m, in \u001b[1;35mperformMath\u001b[1;36m\u001b[0m\n\u001b[1;33m    previous =eval(equation)\u001b[0m\n",
      "\u001b[1;36m  File \u001b[1;32m\"<string>\"\u001b[1;36m, line \u001b[1;32munknown\u001b[0m\n\u001b[1;33m    \u001b[0m\n\u001b[1;37m    ^\u001b[0m\n\u001b[1;31mSyntaxError\u001b[0m\u001b[1;31m:\u001b[0m unexpected EOF while parsing\n"
     ]
    }
   ],
   "source": [
    "## Continuos Calculator\n",
    "import re\n",
    "print('Our Magic Calculator')\n",
    "print(\"Type'quit' to exit\\n\")\n",
    "previous=0\n",
    "run=True\n",
    "\n",
    "def performMath():\n",
    "    global run\n",
    "    global previous\n",
    "    equation = \"\"\n",
    "    if previous == 0:\n",
    "        equation = input(\"Enter equation\")\n",
    "    else:\n",
    "        equation= input(str(previous))\n",
    "    \n",
    "   \n",
    "    if equation == 'quit':\n",
    "        run = False\n",
    "    else:\n",
    "        equation=re.sub('[a-zA-Z,.:()\" \"]', '',equation)\n",
    "        \n",
    "        if previous ==0:\n",
    "            previous =eval(equation)\n",
    "        else:\n",
    "            previous=eval(str(previous)+equation)\n",
    "        \n",
    "    \n",
    "        print(\"You typed\",previous)\n",
    "while run:\n",
    "    performMath()"
   ]
  },
  {
   "cell_type": "code",
   "execution_count": null,
   "metadata": {
    "collapsed": true
   },
   "outputs": [],
   "source": []
  }
 ],
 "metadata": {
  "kernelspec": {
   "display_name": "Python 3",
   "language": "python",
   "name": "python3"
  }
 },
 "nbformat": 4,
 "nbformat_minor": 2
}
